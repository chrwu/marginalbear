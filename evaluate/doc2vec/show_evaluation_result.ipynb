{
 "cells": [
  {
   "cell_type": "code",
   "execution_count": 1,
   "metadata": {},
   "outputs": [],
   "source": [
    "%matplotlib inline\n",
    "\n",
    "import matplotlib.pyplot as plt\n",
    "import seaborn as sns\n",
    "import pandas as pd\n",
    "import numpy as np"
   ]
  },
  {
   "cell_type": "code",
   "execution_count": null,
   "metadata": {
    "collapsed": true
   },
   "outputs": [],
   "source": [
    "eval_result = pd.read_csv('../django/dev/out2.csv', names=['rand', 'base', 'jt'])\n",
    "print(eval_result.shape)\n",
    "eval_result.head()"
   ]
  },
  {
   "cell_type": "code",
   "execution_count": null,
   "metadata": {
    "collapsed": true
   },
   "outputs": [],
   "source": [
    "eval_result.mean(), eval_result.std()"
   ]
  },
  {
   "cell_type": "code",
   "execution_count": null,
   "metadata": {
    "collapsed": true
   },
   "outputs": [],
   "source": [
    "data = eval_result\n",
    "data.head()"
   ]
  },
  {
   "cell_type": "code",
   "execution_count": null,
   "metadata": {
    "collapsed": true
   },
   "outputs": [],
   "source": [
    "# Create a figure instance\n",
    "fig = plt.figure(1, figsize=(16, 12))\n",
    "\n",
    "# Create an axes instance\n",
    "ax = fig.add_subplot(111)\n",
    "bp = ax.boxplot([data['rand'], data['base'], data['jt']],\n",
    "                notch=False,\n",
    "                vert=True,\n",
    "                patch_artist=True\n",
    ")\n",
    "color = ['#7570b3', 'yellow', '#1b9e77']\n",
    "for box, c in zip(bp['boxes'], color):\n",
    "    box.set(facecolor=c, alpha=0.5, linewidth=3)\n",
    "\n",
    "for med in bp['medians']:\n",
    "    med.set(linewidth=3)\n",
    "for cap in bp['caps']:\n",
    "    cap.set(linewidth=3)\n",
    "for whisker in bp['whiskers']:\n",
    "    whisker.set(linewidth=3)\n",
    "# for flier in bp['fliers']:\n",
    "#     flier.set(marker='o', color='#e7298a', alpha=0.5)\n",
    "ax.set_xticklabels(['Random', 'w/ Jaccard', 'w/ POS Ranking'])\n",
    "ax.set_ylabel('nDCG', fontsize=30)\n",
    "ax.set_ylim(-0.2, 0.3)\n",
    "plt.title('Retrieval Evaluation with Similarity Ranking', fontsize=30)\n",
    "ax.tick_params(labelsize=30)\n",
    "# ax.set_ylim\n"
   ]
  },
  {
   "cell_type": "code",
   "execution_count": null,
   "metadata": {
    "collapsed": true
   },
   "outputs": [],
   "source": [
    "fig.savefig('out.pdf')"
   ]
  }
 ],
 "metadata": {
  "kernelspec": {
   "display_name": "Python 3",
   "language": "python",
   "name": "python3"
  },
  "language_info": {
   "codemirror_mode": {
    "name": "ipython",
    "version": 3
   },
   "file_extension": ".py",
   "mimetype": "text/x-python",
   "name": "python",
   "nbconvert_exporter": "python",
   "pygments_lexer": "ipython3",
   "version": "3.6.1"
  }
 },
 "nbformat": 4,
 "nbformat_minor": 2
}
