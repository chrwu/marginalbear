{
 "cells": [
  {
   "cell_type": "code",
   "execution_count": 1,
   "metadata": {
    "collapsed": true
   },
   "outputs": [],
   "source": [
    "from gensim.models.doc2vec import TaggedDocument, Doc2Vec, Word2Vec\n",
    "import os\n",
    "import collections\n",
    "import smart_open\n",
    "import random\n",
    "import subprocess as sp"
   ]
  },
  {
   "cell_type": "code",
   "execution_count": 2,
   "metadata": {
    "collapsed": true
   },
   "outputs": [],
   "source": [
    "def read_corpus(fname, sample=1, offset=1, delimiter='\\t', drop=False, dropth=0.1):\n",
    "    sample = max(int(sample), 1)\n",
    "    offset = max(int(offset), 0)\n",
    "    with open(fname, 'r') as f:\n",
    "        for i, line in enumerate(f):\n",
    "            if drop:\n",
    "                if random.random() <= dropth:\n",
    "                    continue\n",
    "                \n",
    "            if (i + offset) % sample == 0:\n",
    "                try:\n",
    "                    tag, sent = line.split(delimiter)\n",
    "                    # For training data, add tags\n",
    "                    yield TaggedDocument(sent.strip().split(), [tag])\n",
    "                except Exception as err:\n",
    "                    print(i, line)\n",
    "                    continue"
   ]
  },
  {
   "cell_type": "code",
   "execution_count": 3,
   "metadata": {
    "collapsed": true
   },
   "outputs": [],
   "source": [
    "model = Doc2Vec(\n",
    "    size=50, window=10,\n",
    "    negative=10,\n",
    "    dm_concat=1, dbow_words=1,\n",
    "    min_count=5, sample=1e-5,\n",
    "    workers=6\n",
    ")"
   ]
  },
  {
   "cell_type": "code",
   "execution_count": 4,
   "metadata": {
    "collapsed": true
   },
   "outputs": [],
   "source": [
    "file_tokenized = 'dump/doc0909.csv'\n",
    "train_gr = read_corpus(file_tokenized, sample=1, offset=0)"
   ]
  },
  {
   "cell_type": "code",
   "execution_count": 5,
   "metadata": {},
   "outputs": [],
   "source": [
    "model.build_vocab(train_gr)"
   ]
  },
  {
   "cell_type": "code",
   "execution_count": 6,
   "metadata": {},
   "outputs": [
    {
     "name": "stdout",
     "output_type": "stream",
     "text": [
      "Doc2Vec(dm/c,d50,n10,w10,mc5,s1e-05,t6)\n",
      "12869583\n"
     ]
    }
   ],
   "source": [
    "print(model)\n",
    "print(model.corpus_count)"
   ]
  },
  {
   "cell_type": "code",
   "execution_count": null,
   "metadata": {
    "collapsed": true
   },
   "outputs": [],
   "source": [
    "%%time\n",
    "for epoch in range(10):\n",
    "    model.min_alpha = model.alpha\n",
    "    tr = read_corpus(file_tokenized, sample=1, offset=0, drop=True, dropth=0.5)\n",
    "    model.train(tr, total_examples=model.corpus_count//2, epochs=1)\n",
    "    model.alpha *= 0.99"
   ]
  },
  {
   "cell_type": "code",
   "execution_count": null,
   "metadata": {
    "collapsed": true
   },
   "outputs": [],
   "source": [
    "model.save('title2comment.model')"
   ]
  },
  {
   "cell_type": "code",
   "execution_count": null,
   "metadata": {
    "collapsed": true
   },
   "outputs": [],
   "source": [
    "print('@', model.most_similar(['金城武']))\n",
    "print('@', model.most_similar(['肥宅']))\n",
    "print('@', model.most_similar(['妹妹']))\n",
    "print('@', model.most_similar(['豆導']))\n",
    "print('@', model.most_similar(['安安']))\n",
    "print('@', model.most_similar(['陳水扁']))\n",
    "\n"
   ]
  },
  {
   "cell_type": "code",
   "execution_count": null,
   "metadata": {
    "collapsed": true
   },
   "outputs": [],
   "source": [
    "sent = '館長 和 朱雪璋 PK 誰 贏'\n",
    "inferred_vector = model.infer_vector(sent.split(), alpha=0.001, min_alpha=0.0001)\n",
    "# print(inferred_vector)\n",
    "most_similar = model.docvecs.most_similar([inferred_vector])\n",
    "for tag, score in most_similar:\n",
    "    cmd = 'grep -P \"^{tag}\\t\" /var/local/okbot/tokenized0605.csv'.format(tag=tag)\n",
    "    print(tag, score)\n",
    "    print(sp.run(cmd, shell=True, stdout=sp.PIPE).stdout.decode('utf-8').strip())\n"
   ]
  },
  {
   "cell_type": "code",
   "execution_count": null,
   "metadata": {
    "collapsed": true
   },
   "outputs": [],
   "source": [
    "# sent = '有 無 金城武 是 八卦 最好 釣 的 名人 的 八卦 ?'\n",
    "# model.docvecs.similarity(2, 3)\n",
    "# indexies = model.docvecs.indexed_doctags(['420194', '421657', '437505', '472723', '433785', '484674', '523031'])[0]\n",
    "# ref, test = indexies[0], indexies[1:]\n",
    "\n",
    "# [model.docvecs.similarity(ref, i) for i in test]\n",
    "sent1 = '異形 讓 豆導 來 導 會 怎樣 ？'.split()\n",
    "sent2 = '豆導 拍 異形 會 怎樣 ？'.split()\n",
    "model.docvecs.similarity_unseen_docs(model, sent1, sent2, alpha=0.001, min_alpha=0.0001)"
   ]
  }
 ],
 "metadata": {
  "kernelspec": {
   "display_name": "Python 3",
   "language": "python",
   "name": "python3"
  },
  "language_info": {
   "codemirror_mode": {
    "name": "ipython",
    "version": 3
   },
   "file_extension": ".py",
   "mimetype": "text/x-python",
   "name": "python",
   "nbconvert_exporter": "python",
   "pygments_lexer": "ipython3",
   "version": "3.6.1"
  }
 },
 "nbformat": 4,
 "nbformat_minor": 2
}
